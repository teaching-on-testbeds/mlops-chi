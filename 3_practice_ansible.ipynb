{
 "cells": [
  {
   "cell_type": "markdown",
   "metadata": {},
   "source": [
    "## Practice using Ansible\n",
    "\n",
    "Now that we have provisioned some infrastructure, we can configure and install software on it using Ansible!\n",
    "\n",
    "Ansible is a tool for configuring systems by accessing them over SSH and running commands on them. The commands to run will be defined in advance in a series of *playbooks*, so that instead of using SSH directly and then running commands ourselves interactively, we can just execute a playbook to set up our systems.\n",
    "\n",
    "First, let’s just practice using Ansible."
   ]
  },
  {
   "cell_type": "markdown",
   "metadata": {},
   "source": [
    "### Preliminaries"
   ]
  },
  {
   "cell_type": "markdown",
   "metadata": {},
   "source": [
    "As before, let’s make sure we’ll be able to use the Ansible executables. We need to put the install directory in the `PATH` inside each new Bash session."
   ]
  },
  {
   "cell_type": "code",
   "execution_count": null,
   "metadata": {},
   "outputs": [],
   "source": [
    "# runs in Chameleon Jupyter environment\n",
    "export PATH=/work/.local/bin:$PATH\n",
    "export PYTHONUSERBASE=/work/.local"
   ]
  },
  {
   "cell_type": "markdown",
   "metadata": {},
   "source": [
    "If you haven’t already, make sure to put your floating IP (which you can see in the output of the Terraform command!) in the `ansible.cfg` configuration file, and move it to the specified location.\n",
    "\n",
    "The following cell will show the contents of this file, so you can double check - make sure your real floating IP is visible in this output!"
   ]
  },
  {
   "cell_type": "code",
   "execution_count": null,
   "metadata": {},
   "outputs": [],
   "source": [
    "# runs in Chameleon Jupyter environment\n",
    "cat /work/gourmetgram-iac/ansible/ansible.cfg"
   ]
  },
  {
   "cell_type": "markdown",
   "metadata": {},
   "source": [
    "Finally, we’ll `cd` to that directory -"
   ]
  },
  {
   "cell_type": "code",
   "execution_count": null,
   "metadata": {},
   "outputs": [],
   "source": [
    "# runs in Chameleon Jupyter environment\n",
    "cd /work/gourmetgram-iac/ansible"
   ]
  },
  {
   "cell_type": "markdown",
   "metadata": {},
   "source": [
    "### Verify connectivity\n",
    "\n",
    "First, we’ll run a simple task to check connectivity with all hosts listed in the [`inventory.yml` file](https://github.com/teaching-on-testbeds/gourmetgram-iac/blob/main/ansible/inventory.yml):\n",
    "\n",
    "    all:\n",
    "      vars:\n",
    "        ansible_python_interpreter: /usr/bin/python3\n",
    "      hosts:\n",
    "        node1:\n",
    "          ansible_host: 192.168.1.11\n",
    "          ansible_user: cc\n",
    "        node2:\n",
    "          ansible_host: 192.168.1.12\n",
    "          ansible_user: cc\n",
    "        node3:\n",
    "          ansible_host: 192.168.1.13\n",
    "          ansible_user: cc\n",
    "\n",
    "It uses the `ping` module, which checks if Ansible can connect to each host via SSH and run Python code there."
   ]
  },
  {
   "cell_type": "code",
   "execution_count": null,
   "metadata": {},
   "outputs": [],
   "source": [
    "# runs in Chameleon Jupyter environment\n",
    "ansible -i inventory.yml all -m ping"
   ]
  },
  {
   "cell_type": "markdown",
   "metadata": {},
   "source": [
    "### Run a “Hello, World” playbook\n",
    "\n",
    "Once we have verified connectivity to the nodes in our “inventory”, we can run a *playbook*, which is a sequence of tasks organized in plays, and defined in a YAML file. Here we will run the following playbook with one “Hello world” play:\n",
    "\n",
    "    ---\n",
    "    - name: Hello, world - use Ansible to run a command on each host\n",
    "      hosts: all\n",
    "      gather_facts: no\n",
    "\n",
    "      tasks:\n",
    "        - name: Run hostname command\n",
    "          command: hostname\n",
    "          register: hostname_output\n",
    "\n",
    "        - name: Show hostname output\n",
    "          debug:\n",
    "            msg: \"The hostname of {{ inventory_hostname }} is {{ hostname_output.stdout }}\"\n",
    "\n",
    "The playbook connects to `all` hosts listed in the inventory, and performs two tasks: first, it runs the `hostname` command on each host and saves the result in `hostname_output`, then it prints a message showing the value of `hostname_output` (using the *debug* module)."
   ]
  },
  {
   "cell_type": "code",
   "execution_count": null,
   "metadata": {},
   "outputs": [],
   "source": [
    "# runs in Chameleon Jupyter environment\n",
    "ansible-playbook -i inventory.yml general/hello_host.yml"
   ]
  }
 ],
 "nbformat": 4,
 "nbformat_minor": 4,
 "metadata": {
  "kernelspec": {
   "name": "bash",
   "display_name": "Bash",
   "language": "bash"
  },
  "language_info": {
   "name": "bash",
   "codemirror_mode": "shell",
   "file_extension": ".sh",
   "mimetype": "shell"
  }
 }
}
